{
 "cells": [
  {
   "cell_type": "markdown",
   "metadata": {},
   "source": [
    "# Library imports\n",
    "\n",
    "* pandas: Pandas is een open source library met BSD-licentie die krachtige, eenvoudig te gebruiken datastructuren en gegevens analyse tools voor de programmeertaal Python aanbiedt.\n",
    "* numpy: Numpy is een core library voor wetenschappelijke berekeningen en biedt een krachtig multidimensionale array-object en tools om met de array-object te werken.\n",
    "* sklearn: Een simpel en effective tool voor data mining en analyses. Wordt gebruikt voor het aanleveren van de dataset voor de demo om machine learning mogelijk te maken. \n",
    "* matplotlib: voor het creëren van de plots. Plots wordt gebruikt om data te visualiseren.\n",
    "* seaborn: Seaborn is een Python-visualisatie library op basis van matplotlib. Het biedt een interface op hoog niveau voor het tekenen van aantrekkelijke statistische afbeeldingen. De seaborn library bouwt zich op matplotlib.\n",
    "* LogisticRegression: dit is een algoritme model die afkomstig is van sklearn.linear_model. \n",
    "* Train_test_split: Splitsen van arrays of matrixen in willekeurige trainsets en testsubsets.\n",
    "* statsmodels.api: statsmodels is een Python-module die klassen en functies biedt voor de schatting van veel verschillende statistische modellen, maar ook voor het uitvoeren van statistische tests en het verkennen van statistische gegevens. Voor elke schatting is een uitgebreide lijst met resultaatstatistieken beschikbaar. De resultaten worden getoetst aan bestaande statistische pakketten om er zeker van te zijn dat ze correct zijn. \n",
    "* scipy.stats: Deze module bevat een groot aantal kansverdeling functies en is een groeiende library met statistische functies."
   ]
  },
  {
   "cell_type": "code",
   "execution_count": null,
   "metadata": {},
   "outputs": [
    {
     "name": "stderr",
     "output_type": "stream",
     "text": [
      "c:\\python36\\lib\\site-packages\\sklearn\\cross_validation.py:41: DeprecationWarning: This module was deprecated in version 0.18 in favor of the model_selection module into which all the refactored classes and functions are moved. Also note that the interface of the new CV iterators are different from that of this module. This module will be removed in 0.20.\n",
      "  \"This module will be removed in 0.20.\", DeprecationWarning)\n"
     ]
    }
   ],
   "source": [
    "import pandas as pd\n",
    "import numpy as np\n",
    "from sklearn import preprocessing\n",
    "import matplotlib.pyplot as plt \n",
    "plt.rc(\"font\", size=14)\n",
    "from sklearn.linear_model import LogisticRegression\n",
    "from sklearn.cross_validation import train_test_split\n",
    "import seaborn as sns\n",
    "sns.set(style=\"white\")\n",
    "sns.set(style=\"whitegrid\", color_codes=True)"
   ]
  },
  {
   "cell_type": "markdown",
   "metadata": {},
   "source": [
    "# Data import\n",
    "\n",
    "Voor een machine learning applicatie moet er data beschikbaar zijn. Daarom moet er eerst data worden geimporteerd.\n",
    "\n",
    "De onderstaande code importeert de dataset van banking.csv file voor de demo. Daarna wordt de data getoond. De gegevens hebben betrekking op direct marketing-campagnes (telefoontjes) van een Portugese bankinstelling. Het doel van de classificatie probleem is om te voorspellen of de klant een termijndeposito (variabele y) zal doen of niet (1/0). \n",
    "\n",
    "De dataset biedt klantinformaties aan. Het bevat 41188 records(rows) en 21 velden(columns)."
   ]
  },
  {
   "cell_type": "code",
   "execution_count": null,
   "metadata": {},
   "outputs": [],
   "source": [
    "data = pd.read_csv('./banking.csv', header=0)\n",
    "data = data.dropna()\n",
    "print(data.shape)\n",
    "print(list(data.columns))"
   ]
  },
  {
   "cell_type": "markdown",
   "metadata": {},
   "source": [
    "## Head functie\n",
    "\n",
    "De head functie retourneert de 5 top rows van het DataFrame(banking.csv). Het is mogelijk om in de parameter het aantal rows te definëren. \n"
   ]
  },
  {
   "cell_type": "code",
   "execution_count": null,
   "metadata": {},
   "outputs": [],
   "source": [
    "data.head()"
   ]
  },
  {
   "cell_type": "markdown",
   "metadata": {},
   "source": [
    "## Input variabelen\n",
    "\n",
    "Input variabelen (zie [bank-names.txt](https://github.com/HanNotSMachineLearning/LogisticRegressionDemo/blob/master/bank-names.txt))\n",
    "\n",
    "1 - age (numeric)\n",
    "\n",
    "2 - job : werk type (categorical: 'admin.','blue-collar','entrepreneur','housemaid','management','retired','self-employed','services','student','technician','unemployed','unknown')\n",
    "\n",
    "3 - marital : burgerlijke staat (categorical: 'divorced','married','single','unknown'; note: 'divorced' means divorced or widowed)\n",
    "\n",
    "4 - education: (categorical: 'basic.4y','basic.6y','basic.9y','high.school','illiterate','professional.course','university.degree','unknown')\n",
    "\n",
    "5 - default: heeft krediet default (categorical: 'no','yes','unknown')\n",
    "\n",
    "6 - housing: heeft een woningkrediet? (categorical: 'no','yes','unknown')\n",
    "\n",
    "7 - loan: heeft persoonlijke lening?(categorical: 'no','yes','unknown')\n",
    "\n",
    "8 - contact: contact communicatie type (categorical: 'cellular','telephone')\n",
    "\n",
    "9 - month: laatste contactmaand van het jaar (categorical: 'jan', 'feb', 'mar', ..., 'nov', 'dec')\n",
    "\n",
    "10 - day_of_week: laatste contactdag van de week (categorical: 'mon','tue','wed','thu','fri')\n",
    "\n",
    "11 - duration: laatste contactduur, in seconden (numeric). **Belangrijke opmerking**: dit kenmerk is van grote invloed op het uitvoerdoel (bijvoorbeeld als duur = 0 en dan y = 'nee'). Toch is de duur niet bekend voordat een oproep wordt uitgevoerd. Ook is na het einde van de call y duidelijk bekend. Deze input moet dus alleen worden opgenomen voor benchmarkdoeleinden en moet worden weggegooid als het de bedoeling is om een realistisch voorspellend model te hebben.\n",
    "\n",
    "12 - campaign: aantal contacten uitgevoerd tijdens deze campagne en voor deze klant (numeric, bevat laatste contact)\n",
    "\n",
    "13 - pdays: aantal dagen dat voorbijging nadat de klant voor het laatst werd gecontacteerd vanuit een vorige campagne (numeric; 999 betekent dat de klant niet eerder werd gecontacteerd)\n",
    "\n",
    "14 - previous: het aantal contacten dat vóór deze campagne en voor deze klant is uitgevoerd (numeric)\n",
    "\n",
    "15 - poutcome: resultaat van de vorige marketingcampagne(categorical: 'failure','nonexistent','success')\n",
    "\n",
    "16 - emp.var.rate: werkgelegenheidsvariatie - (numeric)\n",
    "\n",
    "17 - cons.price.idx: consumentenprijsindex - (numeric)\n",
    "\n",
    "18 - cons.conf.idx: index van het consumentenvertrouwen - (numeric)\n",
    "\n",
    "19 - euribor3m: euribor 3-maands tarief - (numeric)\n",
    "\n",
    "20 - nr.employed: Aantal werknemers - (numeric)\n",
    "\n",
    "### Voorspel variabele (gewenst doelwit):\n",
    "y - heeft de klant zich ingeschreven voor een termijndeposito? (binair: '1', '0')\n",
    "\n",
    "### Categoriseren/Grouperen \n",
    "De onderwijskolom van de dataset heeft veel categorieën en we moeten de categorieën reduceren voor een betere modellering. De onderwijskolom heeft de volgende categorieën: basic.4y, unknown, university.degree, high.school,\n",
    "                       basic.9y, professional.course, basic.6y, illiterate\n",
    "\n",
    "### Unique functie\n",
    "Met de unique functie wordt ervoor gezorgd dat alle unieke education categorie van de data wordt wordt getoond. Hierbij wordt een array object gemaakt.\n"
   ]
  },
  {
   "cell_type": "code",
   "execution_count": null,
   "metadata": {
    "scrolled": true
   },
   "outputs": [],
   "source": [
    "data['education'].unique()"
   ]
  },
  {
   "cell_type": "markdown",
   "metadata": {},
   "source": [
    "## Reduceren\n",
    "\n",
    "Reduceren wordt gebruikt om data kleiner te maken. Door het kleiner maken van de data wordt de performance beter omdat er op minder inputs wordt gecheckt. \n",
    "\n",
    "Om te reduceren worden de onderstaande basic.9y, basic.6y, basic.4y in 1 categorie gegroupeerd. De nieuwe groep is Basic. Daarna wordt opnieuw de unique functie uitgevoerd om een unieke array object voor de categorie gecreëerd. "
   ]
  },
  {
   "cell_type": "code",
   "execution_count": null,
   "metadata": {},
   "outputs": [],
   "source": [
    "data['education']=np.where(data['education'] =='basic.9y', 'Basic', data['education'])\n",
    "data['education']=np.where(data['education'] =='basic.6y', 'Basic', data['education'])\n",
    "data['education']=np.where(data['education'] =='basic.4y', 'Basic', data['education'])"
   ]
  },
  {
   "cell_type": "code",
   "execution_count": null,
   "metadata": {},
   "outputs": [],
   "source": [
    "data['education'].unique()\n"
   ]
  },
  {
   "cell_type": "markdown",
   "metadata": {},
   "source": [
    "# Data exploratie\n",
    "\n",
    "Bij data exploratie is het de bedoeling dat de data wordt verkend. Het verkennen wordt gedaan om de mogelijke beste voorspeller variabelen te ontdekken om de voorspelling (gewenste doelwit wat voorspeld moet worden - variabel y) zo goed mogelijk te kunnen doen. Hierbij worden er verschil gemaakt tussen numeric en categorical variabelen. Bij data exploratie wordt er globaal gekeken naar statistieken van verschillende variabelen.\n",
    "\n",
    "### Value_counts functie\n",
    "Retourneert een object met tellingen van unieke waarden. De kolom y van het DataFrame wordt opgeteld per unique value. Dus 1 of 0 worden opgeteld. De data y variabel heeft 36548 gevallen waarop de klant geen termijn deposito wil doen en 4640 gevallen van waar de klant wel een termijn deposito wil overschrijven."
   ]
  },
  {
   "cell_type": "code",
   "execution_count": null,
   "metadata": {},
   "outputs": [],
   "source": [
    "data['y'].value_counts()"
   ]
  },
  {
   "cell_type": "markdown",
   "metadata": {},
   "source": [
    "### sns.countplot en plt.savefig\n",
    "De sns.countplot functie maakt een plot (grafiek) gebaseerd op data van banking.csv. De x staat voor de kolom van de data die gebruikt wordt. Palette zijn kleuren die gebruikt zullen worden.  \n",
    "\n",
    "De savefig('count_plot') functie slaat de grafiek op in een png-bestand met de naam count_plot. Het is niet nodig om de savefig functie uit te voeren. "
   ]
  },
  {
   "cell_type": "code",
   "execution_count": null,
   "metadata": {},
   "outputs": [],
   "source": [
    "sns.countplot(x='y',data=data, palette='hls')\n",
    "plt.show()\n",
    "plt.savefig('count_plot')"
   ]
  },
  {
   "cell_type": "markdown",
   "metadata": {},
   "source": [
    "Er zijn 36548 nee's en 4640 ja's zoals in de tabel te zien voor de doelwit voorspel variabel y.\n",
    "\n",
    "De onderstaande code data.groupby('y').mean() geeft een gemiddelde voor alle nummeric kolommen weer tegenover de doelwit voorspel variabel y. \n",
    "\n",
    "### Mean Functie\n",
    "De mean functie geeft een gemiddelde voor float, numeric en int kolommen/variabelen"
   ]
  },
  {
   "cell_type": "code",
   "execution_count": null,
   "metadata": {},
   "outputs": [],
   "source": [
    "data.groupby('y').mean()"
   ]
  },
  {
   "cell_type": "markdown",
   "metadata": {},
   "source": [
    "## Observatie\n",
    "De gemiddelde leeftijd van klanten die de termijndeposito hebben gedaan, is hoger dan die van klanten die dat niet deden.\n",
    "\n",
    "De pdays (dagen nadat de klant voor het laatst werd gecontacteerd) ligt begrijpelijk lager voor de klanten die het hebben gekocht. Hoe lager de pdays, hoe beter de herinnering aan de laatste oproep en dus hoe groter de kans op een deposito.\n",
    "\n",
    "Verrassend genoeg zijn campaign (aantal contacten of oproepen tijdens de huidige campagne) lager voor klanten die de termijndeposito hebben gedaan.\n",
    "\n",
    "We kunnen ook gemiddelden bekijken voor andere categorische variabelen zoals education en merital om een gedetailleerder beeld van de data te krijgen."
   ]
  },
  {
   "cell_type": "markdown",
   "metadata": {},
   "source": [
    "### Observatie van job categorie\n",
    "\n",
    "Hieronder worden alle gemiddelden van alle numeric kolommen bekeken tegenover de job categorie."
   ]
  },
  {
   "cell_type": "code",
   "execution_count": null,
   "metadata": {},
   "outputs": [],
   "source": [
    "data.groupby('job').mean()\n"
   ]
  },
  {
   "cell_type": "markdown",
   "metadata": {},
   "source": [
    "### Observatie van merital categorie\n",
    "\n",
    "Hieronder worden alle gemiddelden van alle numeric kolommen bekeken tegenover de merital categorie."
   ]
  },
  {
   "cell_type": "code",
   "execution_count": null,
   "metadata": {},
   "outputs": [],
   "source": [
    "data.groupby('marital').mean()"
   ]
  },
  {
   "cell_type": "markdown",
   "metadata": {},
   "source": [
    "### Observatie van education categorie\n",
    "\n",
    "Hieronder worden alle gemiddelden van alle numeric kolommen bekeken tegenover de education categorie."
   ]
  },
  {
   "cell_type": "code",
   "execution_count": null,
   "metadata": {},
   "outputs": [],
   "source": [
    "data.groupby('education').mean()"
   ]
  },
  {
   "cell_type": "markdown",
   "metadata": {},
   "source": [
    "## Visualisatie\n",
    "\n",
    "De visualitatie van de demo is lastig te begrijpen en het is lastig om te  concluderen of een variabel, een goede voorspeller kan zijn voor de uitkomstvariabel y. De demo maker geeft geen onderbouwing waarom de categorie variabel gebruikt kan worden als een goede voorspeller. Hij maakt zelf een aanname met de statistieken die hij ziet. Het doel van de visualitatie is dat de data van een categorie variabel moet worden geanalyseerd. \n",
    "\n",
    "De demo maker lijkt te verwachten dat de personen die de demo uitvoeren verstand heeft van data analyses en data mining. "
   ]
  },
  {
   "cell_type": "markdown",
   "metadata": {},
   "source": [
    "### Visualisatie van job categorieën tegenover y numeric variabel\n",
    "\n",
    "\n",
    "De frequency of purchase (frequentie van aankoop) van de (termijndeposito - variabel y) aanbetaling is sterk afhankelijk van de Job (functie). De Job variabel kan dus een goede voorspeller van de uitkomstvariabele zijn."
   ]
  },
  {
   "cell_type": "code",
   "execution_count": null,
   "metadata": {},
   "outputs": [],
   "source": [
    "%matplotlib inline\n",
    "pd.crosstab(data.job,data.y).plot(kind='bar')\n",
    "plt.title('Purchase Frequency for Job Title')\n",
    "plt.xlabel('Job')\n",
    "plt.ylabel('Frequency of Purchase')\n",
    "plt.savefig('purchase_fre_job')"
   ]
  },
  {
   "cell_type": "markdown",
   "metadata": {},
   "source": [
    "### Visualisatie van Merital categorieen tegenover y numeric variabel\n",
    "\n",
    "\n",
    "Moeilijk te zien, maar de Mertial variabel(burgerlijke staat) lijkt geen sterke voorspeller te zijn voor de uitkomstvariabele y."
   ]
  },
  {
   "cell_type": "code",
   "execution_count": null,
   "metadata": {},
   "outputs": [],
   "source": [
    "table=pd.crosstab(data.marital,data.y).plot(kind='bar')\n",
    "plt.title('Stacked Bar Chart of Marital Status vs Purchase')\n",
    "plt.xlabel('Marital Status')\n",
    "plt.ylabel('Proportion of Customers')\n",
    "plt.savefig('mariral_vs_pur_stack')"
   ]
  },
  {
   "cell_type": "markdown",
   "metadata": {},
   "source": [
    "### Visualisatie van Education categorieën tegenover y numeric variabel\n",
    "\n",
    "\n",
    "Education variabel(Onderwijs) lijkt een goede voorspeller te zijn voor de uitkomstvariabele y."
   ]
  },
  {
   "cell_type": "code",
   "execution_count": null,
   "metadata": {},
   "outputs": [],
   "source": [
    "table=pd.crosstab(data.education,data.y).plot(kind='bar')\n",
    "plt.title('Stacked Bar Chart of Education vs Purchase')\n",
    "plt.xlabel('Education')\n",
    "plt.ylabel('Proportion of Customers')\n",
    "plt.savefig('edu_vs_pur_stack')"
   ]
  },
  {
   "cell_type": "markdown",
   "metadata": {},
   "source": [
    "### Visualisatie van day_of_week categorieën tegenover y numeric variabel\n",
    "\n",
    "\n",
    "De dag van de week is mogelijk geen goede voorspeller van de uitkomstvariabele y."
   ]
  },
  {
   "cell_type": "code",
   "execution_count": null,
   "metadata": {},
   "outputs": [],
   "source": [
    "pd.crosstab(data.day_of_week,data.y).plot(kind='bar')\n",
    "plt.title('Purchase Frequency for Day of Week')\n",
    "plt.xlabel('Day of Week')\n",
    "plt.ylabel('Frequency of Purchase')\n",
    "plt.savefig('pur_dayofweek_bar')"
   ]
  },
  {
   "cell_type": "markdown",
   "metadata": {},
   "source": [
    "### Visualisatie van month categorieën tegenover y numeric variabel\n",
    "\n",
    "Month(Maand) kan een goede voorspeller zijn voor de uitkomstvariabele y."
   ]
  },
  {
   "cell_type": "code",
   "execution_count": null,
   "metadata": {},
   "outputs": [],
   "source": [
    "pd.crosstab(data.month,data.y).plot(kind='bar')\n",
    "plt.title('Purchase Frequency for Month')\n",
    "plt.xlabel('Month')\n",
    "plt.ylabel('Frequency of Purchase')\n",
    "plt.savefig('pur_fre_month_bar')"
   ]
  },
  {
   "cell_type": "markdown",
   "metadata": {},
   "source": [
    "### Visualisatie van age categorieen tegenover y numeric variabel\n",
    "\n",
    "De meeste klanten van de bank in deze dataset bevinden zich in het leeftijdscategorie 30-40."
   ]
  },
  {
   "cell_type": "code",
   "execution_count": null,
   "metadata": {},
   "outputs": [],
   "source": [
    "data.age.hist()\n",
    "plt.title('Histogram of Age')\n",
    "plt.xlabel('Age')\n",
    "plt.ylabel('Frequency')\n",
    "plt.savefig('hist_age')"
   ]
  },
  {
   "cell_type": "markdown",
   "metadata": {},
   "source": [
    "### Visualisatie van poutcome categorieën tegenover y numeric variabel\n",
    "\n",
    "\n",
    "Poutcome lijkt een goede voorspeller te zijn voor de uitkomstvariabele y."
   ]
  },
  {
   "cell_type": "code",
   "execution_count": null,
   "metadata": {},
   "outputs": [],
   "source": [
    "pd.crosstab(data.poutcome,data.y).plot(kind='bar')\n",
    "plt.title('Purchase Frequency for Poutcome')\n",
    "plt.xlabel('Poutcome')\n",
    "plt.ylabel('Frequency of Purchase')\n",
    "plt.savefig('pur_fre_pout_bar')"
   ]
  },
  {
   "cell_type": "markdown",
   "metadata": {},
   "source": [
    "## Create dummy variables\n",
    "\n",
    "Bij een dummy variabel wordt er gezorgd dat elke categoral variabelen worden gemapt. De categorieën van een categorical variabel worden uitgespreid en krijgen de waarden 0 en 1(zie dummy data print). \n",
    "\n",
    "Een job variabel heeft bijvoorbeeld de categorieën: admin, blue-collar,entrepreneur,housemaid,management,retired,self-employed,services,student,technician,unemployed,unknown. Elk van deze categorie krijgt een 1 zodra ze waar zijn en anders krijgt het een 0. \n",
    "\n",
    "Voorbeeld: \n",
    "De eerste rij van de origin data staat dat job blue-collar is. \n",
    "\n",
    "Bij de dummy data wordt de job per categorie gemapt. In dit geval wordt de job variabel categorie blue-collar met 1 aangevinkt. Alle andere waarden worden met 0 aangevinkt. \n",
    "\n",
    "resultaat:\n",
    "De bedoeling van een dummy data is dat de categorical variabelen worden gemapt en een 1 krijgen zodra de conditie(zie voorbeeld) waar is. Nadat alle categorical variabelen zijn gemapt, dan wordt de categorical variabel vervangen door de dummy variabelen. De originele categorical variabel wordt dan niet meegenomen (zie to_keep print). "
   ]
  },
  {
   "cell_type": "markdown",
   "metadata": {},
   "source": [
    "### pd.get_dummy functie\n",
    "\n",
    "De get dummy functie kijkt naar alle categorical variabelen. Alle categorical variabelen worden dan gespreid en een 1 wordt ingevoerd zodra de conditie klopt. Zie uitleg in hoofdstuk Create dummy variables.  \n",
    "\n",
    "### data.join\n",
    "\n",
    "Met deze functie worden de originele data en de dummy data samengevoegd. Resultaat is te zien in de data1 print. "
   ]
  },
  {
   "cell_type": "code",
   "execution_count": null,
   "metadata": {},
   "outputs": [],
   "source": [
    "print(\"origin banking data\")\n",
    "print(data)"
   ]
  },
  {
   "cell_type": "code",
   "execution_count": null,
   "metadata": {},
   "outputs": [],
   "source": [
    "cat_vars=['job','marital','education','default','housing','loan','contact','month','day_of_week','poutcome']\n",
    "for var in cat_vars:\n",
    "    cat_list='var'+'_'+var\n",
    "    cat_list = pd.get_dummies(data[var], prefix=var)\n",
    "    print(\"dummy data\")\n",
    "    print(cat_list)\n",
    "    data1=data.join(cat_list)\n",
    "    data=data1"
   ]
  },
  {
   "cell_type": "code",
   "execution_count": null,
   "metadata": {},
   "outputs": [],
   "source": [
    "print(\"data1\")\n",
    "print(data1)"
   ]
  },
  {
   "cell_type": "code",
   "execution_count": null,
   "metadata": {},
   "outputs": [],
   "source": [
    "cat_vars=['job','marital','education','default','housing','loan','contact','month','day_of_week','poutcome']\n",
    "data_vars=data.columns.values.tolist()\n",
    "to_keep=[i for i in data_vars if i not in cat_vars]\n",
    "print(\"to_keep\")\n",
    "print(to_keep)"
   ]
  },
  {
   "cell_type": "code",
   "execution_count": null,
   "metadata": {},
   "outputs": [],
   "source": [
    "data_final=data[to_keep]\n",
    "data_final.columns.values"
   ]
  },
  {
   "cell_type": "code",
   "execution_count": null,
   "metadata": {},
   "outputs": [],
   "source": [
    "data_final_vars=data_final.columns.values.tolist()\n",
    "y=['y']\n",
    "X=[i for i in data_final_vars if i not in y]"
   ]
  },
  {
   "cell_type": "markdown",
   "metadata": {},
   "source": [
    "# Feature Selection\n",
    "RFE: \n",
    "Ranking functie met recursieve feature-eliminatie.\n",
    "\n",
    "RFE is een schatter die gewichten toewijst aan features (bijvoorbeeld de coëfficiënten van een lineair model). Het doel van een recursieve feature-eliminatie (RFE) is het selecteren van features door recursief rekening te houden met kleinere en kleinere sets van features. Hoe belangrijker ze zijn hoe hoger het getal wordt (gewicht 1 betekent dat het feature goed gebruikt kan worden). \n",
    "\n",
    "Cols array is het resultaat van de feature eliminatie. De cols array bevat de features waarbij het gewicht 1 is.\n",
    "\n",
    "### Functie RFE(logreg, 18)\n",
    "De functie RFE neemt de LogisticRegression algoritme en daarbij wordt er een aantal geselecteerde features aangegeven. \n",
    "\n",
    "### Fit functie\n",
    "Met de fit functie wordt de data getraind om zo een feature selectie te verkrijgen die het meest samenhang hebben om te gebruiken voor logistic regression machine learning algoritme. \n",
    "\n",
    "Hierbij wordt de data_final[x] gebruikt om te kijken of ze een goede samenhang hebben met de uitkomst variabel y. "
   ]
  },
  {
   "cell_type": "code",
   "execution_count": null,
   "metadata": {},
   "outputs": [],
   "source": [
    "from sklearn import datasets\n",
    "from sklearn.feature_selection import RFE\n",
    "from sklearn.linear_model import LogisticRegression\n",
    "\n",
    "logreg = LogisticRegression()\n",
    "\n",
    "rfe = RFE(logreg, 18)\n",
    "rfe = rfe.fit(data_final[X], data_final[y].values.ravel())\n",
    "print(\"support\")\n",
    "print(rfe.support_)\n",
    "print(\"ranking\")\n",
    "print(rfe.ranking_)\n",
    "print(\"============= data_final[X] ===================\")\n",
    "data_final[X].columns.values"
   ]
  },
  {
   "cell_type": "markdown",
   "metadata": {},
   "source": [
    "### RFE uitkomst \n",
    "De Recursive Feature-Elimination (RFE) heeft de volgende features geselecteerd: \"vorige\", \"euribor3m\", \"job_blue-collar\", \"job_retired\", \"job_services\", \"job_student\", \"default_no\", \"month_aug\", \" month_dec \",\" month_jul \",\" month_nov \",\" month_oct \",\" month_sep \",\" day_of_week_fri \",\" day_of_week_wed \",\" poutcome_failure \",\" poutcome_nonexistent \",\" poutcome_success \"."
   ]
  },
  {
   "cell_type": "code",
   "execution_count": null,
   "metadata": {},
   "outputs": [],
   "source": [
    "cols=[\"previous\", \"euribor3m\", \"job_blue-collar\", \"job_retired\", \"job_services\", \"job_student\", \"default_no\", \n",
    "      \"month_aug\", \"month_dec\", \"month_jul\", \"month_nov\", \"month_oct\", \"month_sep\", \"day_of_week_fri\", \"day_of_week_wed\", \n",
    "      \"poutcome_failure\", \"poutcome_nonexistent\", \"poutcome_success\"] \n",
    "X=data_final[cols]\n",
    "print(X)\n",
    "y=data_final['y']"
   ]
  },
  {
   "cell_type": "markdown",
   "metadata": {},
   "source": [
    "## Implementing the model\n",
    "Met implementing the model wordt er een statistiek weergegeven waarbij je de p-waarde kan zien. De p-waarde is belangrijk en geeft aan dat de variabele die laag zijn (liefst onder 0.05), de belangrijkste factor zijn voor het uitendelijke resultaat bij het voorspellen van de uitkomst variabel y. "
   ]
  },
  {
   "cell_type": "code",
   "execution_count": null,
   "metadata": {},
   "outputs": [],
   "source": [
    "import statsmodels.api as sm\n",
    "from scipy import stats\n",
    "stats.chisqprob = lambda chisq, df: stats.chi2.sf(chisq, df)\n",
    "logit_model=sm.Logit(y,X)\n",
    "result=logit_model.fit()\n",
    "print(result.summary())"
   ]
  },
  {
   "cell_type": "markdown",
   "metadata": {},
   "source": [
    "De p-waarden voor de meeste variabelen zijn erg klein, dit betekent dat de waarde van deze variabelen, belangrijke factoren zijn voor het uiteindelijke resultaat. Daarom zijn de meeste van deze variabelen belangrijk voor het model."
   ]
  },
  {
   "cell_type": "markdown",
   "metadata": {},
   "source": [
    "# Logistic Regression Model Fitting\n",
    "Eenmaal als er een model is, dan moet de model aan de hand van de data worden bijgesteld. Hierbij stel je de parameters bij om de meest accurate voorspelling te kunnen doen. Dit doe je aan de hand van de data. Je splits hierbij de data in training en test dataset. \n",
    "\n",
    "### train_test_split functie\n",
    "\n",
    "Splitsen van arrays in matrics in willekeurige training dataset en test dataset. Hieronder wordt 30% van de data gebruikt voor testen en 70% voor het trainen.\n",
    "\n",
    "Vervolgens wordt de train data getraind van de fit functie. "
   ]
  },
  {
   "cell_type": "code",
   "execution_count": null,
   "metadata": {},
   "outputs": [],
   "source": [
    "X_train, X_test, y_train, y_test = train_test_split(X, y, test_size=0.3, random_state=0)\n",
    "from sklearn.linear_model import LogisticRegression\n",
    "from sklearn import metrics\n",
    "logreg = LogisticRegression()\n",
    "logreg.fit(X_train, y_train)"
   ]
  },
  {
   "cell_type": "markdown",
   "metadata": {},
   "source": [
    "### Predicting the test set results and caculating the accuracy\n",
    "\n",
    "Nu het model is bijgesteld, dan kan er een predictie worden gemaakt. Hierbij wordt de test feature data gebruikt om de voorspel variable y te voorspellen. Hieruit komt er een accuracy waarde uit.  "
   ]
  },
  {
   "cell_type": "code",
   "execution_count": null,
   "metadata": {},
   "outputs": [],
   "source": [
    "y_pred = logreg.predict(X_test)"
   ]
  },
  {
   "cell_type": "code",
   "execution_count": null,
   "metadata": {},
   "outputs": [],
   "source": [
    "print('Accuracy of logistic regression classifier on test set: {:.2f}'.format(logreg.score(X_test, y_test)))"
   ]
  },
  {
   "cell_type": "markdown",
   "metadata": {},
   "source": [
    "# Cross validation\n",
    "\n",
    "Cross validation houdt in dat je je data separeert in k (het aantal subset dat je wilt). De gesepareerde resultaat van de data wordt hierdoor nog accurater. De bedoeling van cross-validation is om te zorgen de resultaat van de model zo accuraat mogelijk is. "
   ]
  },
  {
   "cell_type": "code",
   "execution_count": null,
   "metadata": {},
   "outputs": [],
   "source": [
    "from sklearn import model_selection\n",
    "from sklearn.model_selection import cross_val_score\n",
    "kfold = model_selection.KFold(n_splits=10, random_state=7)\n",
    "modelCV = LogisticRegression()\n",
    "scoring = 'accuracy'\n",
    "results = model_selection.cross_val_score(modelCV, X_train, y_train, cv=kfold, scoring=scoring)\n",
    "print(\"10-fold cross validation average accuracy: %.3f\" % (results.mean()))"
   ]
  },
  {
   "cell_type": "markdown",
   "metadata": {},
   "source": [
    "## Confusion Matrix"
   ]
  },
  {
   "cell_type": "code",
   "execution_count": null,
   "metadata": {},
   "outputs": [],
   "source": [
    "from sklearn.metrics import confusion_matrix\n",
    "confusion_matrix = confusion_matrix(y_test, y_pred)\n",
    "print(confusion_matrix)"
   ]
  },
  {
   "cell_type": "markdown",
   "metadata": {},
   "source": [
    "Het resultaat vertelt ons dat we 10872 + 254 correcte voorspellingen en 1122 + 109 onjuiste voorspellingen hebben. "
   ]
  },
  {
   "cell_type": "markdown",
   "metadata": {},
   "source": [
    "### Accuracy"
   ]
  },
  {
   "cell_type": "code",
   "execution_count": null,
   "metadata": {},
   "outputs": [],
   "source": [
    "print('Accuracy of logistic regression classifier on test set: {:.2f}'.format(logreg.score(X_test, y_test)))"
   ]
  },
  {
   "cell_type": "markdown",
   "metadata": {},
   "source": [
    "### Compute precision, recall, F-measure and support\n",
    "De 10872 is de true positive(TP). TP staat voor dat de verwachte en de echte resultaat positief zijn. Correcte predictie.\n",
    "\n",
    "De 1122 is de false positive(FP). FP staat voor dat de verwachting waar zou zijn en uiteindelijk is het resultaat niet waar. Foute predictie.\n",
    "\n",
    "De 109 is de false negative(FN). FN staat voor dat de verwachting er niet zijn en uiteindelijk is het resultaat wel dat het er is. Foute predictie.\n",
    "\n",
    "De 254 is de true negative(TN). TN staat voor dat de verwachte en de echte resultaat negatief zijn. Correcte predictie.\n",
    "\n",
    "De **precision** is de verhouding tp / (tp + fp), waarbij tp het aantal echte positieven is en fp het aantal valse positieven. De precision is intuïtief het vermogen van de classificator om een negatief sample niet als positief te markeren.\n",
    "\n",
    "De **recall** is de verhouding tp / (tp + fn) waarbij tp het aantal echte positieven is en fn het aantal valse negatieven. Het terugroepen is intuïtief het vermogen van de classificator om alle positieve samples te vinden.\n",
    "\n",
    "De **F1-score** kan worden geïnterpreteerd als een gewogen harmonisch gemiddelde van de precisie en recall, waarbij een F1-score de beste waarde bereikt op 1 en de slechtste score op 0.\n",
    "\n",
    "De **F1-score** weegt de recall meer dan bij precision door een factor van beta. bèta == 1.0 betekent dat de recall en precision even belangrijk zijn.\n",
    "\n",
    "De **support** is het aantal keren dat elke klas voorkomt in y_test."
   ]
  },
  {
   "cell_type": "markdown",
   "metadata": {},
   "source": [
    "### Interpretation:\n",
    "\n",
    "Van de gehele testset was 88% van de gepromote termijndeposito de termijndeposito die de klanten leuk vonden. Van de gehele testset werd 90% van de voorkeurstermitoring van de klant gepromoot."
   ]
  },
  {
   "cell_type": "code",
   "execution_count": null,
   "metadata": {},
   "outputs": [],
   "source": [
    "from sklearn.metrics import classification_report\n",
    "print(classification_report(y_test, y_pred))"
   ]
  },
  {
   "cell_type": "markdown",
   "metadata": {},
   "source": [
    "### Interpretation"
   ]
  },
  {
   "cell_type": "markdown",
   "metadata": {},
   "source": [
    "## ROC Curve from sklearn import metrics\n",
    "De ROC (Receiver Operating Characteristics) Curve wordt gebruikt om classification modellen met elkaar te vergelijken. Het is gebaseerd op signal detection theorie. Het weergeeft de true positive waarde en de false positieve waarde. \n",
    "\n",
    "De waarden onder de rode stippellijn geeft aan dat de naukeurigheid van de model niet goed is. Hoe hoger de lijn boven de rode stippellijn staan, hoe nauwkeurig de model is. "
   ]
  },
  {
   "cell_type": "code",
   "execution_count": null,
   "metadata": {},
   "outputs": [],
   "source": [
    "from sklearn.metrics import roc_auc_score\n",
    "from sklearn.metrics import roc_curve\n",
    "logit_roc_auc = roc_auc_score(y_test, logreg.predict(X_test))\n",
    "fpr, tpr, thresholds = roc_curve(y_test, logreg.predict_proba(X_test)[:,1])\n",
    "plt.figure()\n",
    "plt.plot(fpr, tpr, label='Logistic Regression (area = %0.2f)' % logit_roc_auc)\n",
    "plt.plot([0, 1], [0, 1],'r--')\n",
    "plt.xlim([0.0, 1.0])\n",
    "plt.ylim([0.0, 1.05])\n",
    "plt.xlabel('False Positive Rate')\n",
    "plt.ylabel('True Positive Rate')\n",
    "plt.title('Receiver operating characteristic')\n",
    "plt.legend(loc=\"lower right\")\n",
    "plt.savefig('Log_ROC')\n",
    "plt.show()"
   ]
  }
 ],
 "metadata": {
  "kernelspec": {
   "display_name": "Python 3",
   "language": "python",
   "name": "python3"
  },
  "language_info": {
   "codemirror_mode": {
    "name": "ipython",
    "version": 3
   },
   "file_extension": ".py",
   "mimetype": "text/x-python",
   "name": "python",
   "nbconvert_exporter": "python",
   "pygments_lexer": "ipython3",
   "version": "3.6.5"
  }
 },
 "nbformat": 4,
 "nbformat_minor": 2
}
